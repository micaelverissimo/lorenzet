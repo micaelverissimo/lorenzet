{
 "nbformat": 4,
 "nbformat_minor": 2,
 "metadata": {
  "language_info": {
   "name": "python",
   "codemirror_mode": {
    "name": "ipython",
    "version": 3
   },
   "version": "3.7.3-final"
  },
  "orig_nbformat": 2,
  "file_extension": ".py",
  "mimetype": "text/x-python",
  "name": "python",
  "npconvert_exporter": "python",
  "pygments_lexer": "ipython3",
  "version": 3,
  "kernelspec": {
   "name": "python37364bit9475cb0b18844b479c586cc75ba78edc",
   "display_name": "Python 3.7.3 64-bit"
  }
 },
 "cells": [
  {
   "cell_type": "code",
   "execution_count": 1,
   "metadata": {},
   "outputs": [],
   "source": [
    "import os\n",
    "import time\n",
    "import numpy as np\n",
    "\n",
    "import sys \n",
    "sys.path.append('../python')\n",
    "from lorenzetti_utils import *\n",
    "\n",
    "import matplotlib.pyplot as plt\n",
    "\n",
    "%load_ext autoreload\n",
    "%autoreload 2"
   ]
  },
  {
   "cell_type": "code",
   "execution_count": 2,
   "metadata": {},
   "outputs": [
    {
     "name": "stdout",
     "output_type": "stream",
     "text": "/home/micaelverissimo/Workspace/simulador/lorenzet/lorenzet/share/json_files\n"
    }
   ],
   "source": [
    "if not os.path.exists('json_files'): os.mkdir('json_files')\n",
    "save_path       = os.path.abspath('json_files') \n",
    "print(save_path)\n",
    "file_name       = 'lorenzetti_cells_dict'\n",
    "scale           = 1*1e4\n",
    "nominal_radius  = 1*scale\n",
    "calo_radius     = np.array([0.15, 0.3, 0.03, 0.4, 0.4, 0.2])*scale\n",
    "layer_info_dict = {\n",
    "    'nominal_size'       : 3*scale,\n",
    "    # Electromagnetic Layers\n",
    "    'EM1'  : {\n",
    "        'max_dist_to_ip' : nominal_radius + calo_radius[0].sum(),\n",
    "        'delta_eta'      : 0.003,\n",
    "        'delta_phi'      : 0.1,\n",
    "    }, \n",
    "    'EM2'  : {\n",
    "        'max_dist_to_ip' : nominal_radius + calo_radius[:2].sum(),\n",
    "        'delta_eta'      : 0.025,\n",
    "        'delta_phi'      : 0.025,\n",
    "    },\n",
    "    'EM3'  : {\n",
    "        'max_dist_to_ip' : nominal_radius + calo_radius[:3].sum(),\n",
    "        'delta_eta'      : 0.050,\n",
    "        'delta_phi'      : 0.025,\n",
    "    },\n",
    "    # Hadronic Layers\n",
    "    'HAD1'  : {\n",
    "        'max_dist_to_ip' : nominal_radius + calo_radius[:4].sum(),\n",
    "        'delta_eta'      : 0.1,\n",
    "        'delta_phi'      : 0.1,\n",
    "    }, \n",
    "    'HAD2'  : {\n",
    "        'max_dist_to_ip' : nominal_radius + calo_radius[:5].sum(),\n",
    "        'delta_eta'      : 0.1,\n",
    "        'delta_phi'      : 0.1,\n",
    "    },\n",
    "    'HAD3'  : {\n",
    "        'max_dist_to_ip' : nominal_radius + calo_radius.sum(),\n",
    "        'delta_eta'      : 0.2,\n",
    "        'delta_phi'      : 0.1,\n",
    "    }\n",
    "}"
   ]
  },
  {
   "cell_type": "code",
   "execution_count": 3,
   "metadata": {},
   "outputs": [],
   "source": [
    "lorenzetti_ = lorenzetti_cells_grid_builder(layer_info_dict)"
   ]
  },
  {
   "cell_type": "code",
   "execution_count": 4,
   "metadata": {},
   "outputs": [
    {
     "name": "stdout",
     "output_type": "stream",
     "text": "CPU times: user 4 µs, sys: 1 µs, total: 5 µs\nWall time: 7.39 µs\n"
    }
   ],
   "source": [
    "%time\n",
    "lorenzetti_.get_all_cell_centers()"
   ]
  },
  {
   "cell_type": "code",
   "execution_count": 5,
   "metadata": {},
   "outputs": [],
   "source": [
    "lorenzetti_.dump_dict(path=save_path, name=file_name)"
   ]
  },
  {
   "cell_type": "code",
   "execution_count": 6,
   "metadata": {},
   "outputs": [
    {
     "name": "stdout",
     "output_type": "stream",
     "text": "[[ 3.71626195  5.51779341  2.63805027]\n [ 4.41351527  3.09754506  1.99706403]\n [ 6.74848935  4.53815202  3.94998187]\n [ 6.61316763  1.10562262 -0.1156418 ]\n [ 7.78666546  4.41633036  1.55413576]]\n"
    }
   ],
   "source": [
    "vector_samples = 2.5 * np.random.randn(5, 3) + 3\n",
    "print(vector_samples)"
   ]
  },
  {
   "cell_type": "code",
   "execution_count": 7,
   "metadata": {},
   "outputs": [
    {
     "name": "stdout",
     "output_type": "stream",
     "text": "[[6.65256695 0.97807436 0.66073087]\n [5.39202211 0.61195426 0.43831775]\n [8.13246164 0.59200907 0.55619059]\n [6.70495246 0.16565299 0.01748571]\n [8.95187873 0.51592674 0.19828745]]\n"
    }
   ],
   "source": [
    "atlas_coord = transform_to_ATLAS_coord(vector_samples)\n",
    "print(atlas_coord)"
   ]
  }
 ]
}