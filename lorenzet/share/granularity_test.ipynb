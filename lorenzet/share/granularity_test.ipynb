{
 "nbformat": 4,
 "nbformat_minor": 2,
 "metadata": {
  "language_info": {
   "name": "python",
   "codemirror_mode": {
    "name": "ipython",
    "version": 3
   },
   "version": "3.7.3-final"
  },
  "orig_nbformat": 2,
  "file_extension": ".py",
  "mimetype": "text/x-python",
  "name": "python",
  "npconvert_exporter": "python",
  "pygments_lexer": "ipython3",
  "version": 3,
  "kernelspec": {
   "name": "python37364bit9475cb0b18844b479c586cc75ba78edc",
   "display_name": "Python 3.7.3 64-bit"
  }
 },
 "cells": [
  {
   "cell_type": "code",
   "execution_count": 1,
   "metadata": {},
   "outputs": [],
   "source": [
    "import os\n",
    "import time\n",
    "import numpy as np\n",
    "\n",
    "import sys \n",
    "sys.path.append('../python')\n",
    "from lorenzetti_utils import *\n",
    "\n",
    "import matplotlib.pyplot as plt"
   ]
  },
  {
   "cell_type": "code",
   "execution_count": 2,
   "metadata": {},
   "outputs": [
    {
     "name": "stdout",
     "output_type": "stream",
     "text": "/home/micaelverissimo/Workspace/simulador/lorenzet/lorenzet/share/json_files\n"
    }
   ],
   "source": [
    "if not os.path.exists('json_files'): os.mkdir('json_files')\n",
    "save_path       = os.path.abspath('json_files') \n",
    "print(save_path)\n",
    "file_name       = 'lorenzetti_cells_dict'\n",
    "scale           = 1*1e4\n",
    "nominal_radius  = 1*scale\n",
    "calo_radius     = np.array([0.15, 0.3, 0.03, 0.4, 0.4, 0.2])*scale\n",
    "layer_info_dict = {\n",
    "    'nominal_size'       : 3*scale,\n",
    "    # Electromagnetic Layers\n",
    "    'EM1'  : {\n",
    "        'max_dist_to_ip' : nominal_radius + calo_radius[0].sum(),\n",
    "        'delta_eta'      : 0.003,\n",
    "        'delta_phi'      : 0.1,\n",
    "    }, \n",
    "    'EM2'  : {\n",
    "        'max_dist_to_ip' : nominal_radius + calo_radius[:2].sum(),\n",
    "        'delta_eta'      : 0.025,\n",
    "        'delta_phi'      : 0.025,\n",
    "    },\n",
    "    'EM3'  : {\n",
    "        'max_dist_to_ip' : nominal_radius + calo_radius[:3].sum(),\n",
    "        'delta_eta'      : 0.050,\n",
    "        'delta_phi'      : 0.025,\n",
    "    },\n",
    "    # Hadronic Layers\n",
    "    'HAD1'  : {\n",
    "        'max_dist_to_ip' : nominal_radius + calo_radius[:4].sum(),\n",
    "        'delta_eta'      : 0.1,\n",
    "        'delta_phi'      : 0.1,\n",
    "    }, \n",
    "    'HAD2'  : {\n",
    "        'max_dist_to_ip' : nominal_radius + calo_radius[:5].sum(),\n",
    "        'delta_eta'      : 0.1,\n",
    "        'delta_phi'      : 0.1,\n",
    "    },\n",
    "    'HAD3'  : {\n",
    "        'max_dist_to_ip' : nominal_radius + calo_radius.sum(),\n",
    "        'delta_eta'      : 0.2,\n",
    "        'delta_phi'      : 0.1,\n",
    "    }\n",
    "}"
   ]
  },
  {
   "cell_type": "code",
   "execution_count": 3,
   "metadata": {},
   "outputs": [],
   "source": [
    "lorenzetti_ = lorenzetti_cells_grid_builder(layer_info_dict)"
   ]
  },
  {
   "cell_type": "code",
   "execution_count": 4,
   "metadata": {},
   "outputs": [
    {
     "name": "stdout",
     "output_type": "stream",
     "text": "CPU times: user 3 µs, sys: 0 ns, total: 3 µs\nWall time: 6.91 µs\n"
    }
   ],
   "source": [
    "%time\n",
    "lorenzetti_.get_all_cell_centers()"
   ]
  },
  {
   "cell_type": "code",
   "execution_count": 5,
   "metadata": {},
   "outputs": [],
   "source": [
    "lorenzetti_.dump_dict(path=save_path, name=file_name)"
   ]
  }
 ]
}